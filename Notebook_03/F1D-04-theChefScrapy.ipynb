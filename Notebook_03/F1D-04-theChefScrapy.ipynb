{
 "cells": [
  {
   "cell_type": "markdown",
   "metadata": {},
   "source": [
    "# FLIP(01):  Advanced Data Science\n",
    "**(Module 03: Natural Language Processing)**\n",
    "\n",
    "---\n",
    "- Materials in this module include resources collected from various open-source online repositories.\n",
    "- You are free to use, but NOT allowed to change or distribute this package.\n",
    "\n",
    "Prepared by and for \n",
    "**Student Members** |\n",
    "2006-2018 [TULIP Lab](http://www.tulip.org.au)\n",
    "\n",
    "---\n",
    "\n",
    "\n",
    "# Session 04 - The Chef: Scrapy"
   ]
  },
  {
   "cell_type": "markdown",
   "metadata": {},
   "source": [
    "Ok, we covered a lot just now. You’ve got Requests and Selenium for fetching HTML/XML from web pages. Then, you can use Beautiful Soup or lxml to parse it into useful data.\n",
    "\n",
    "But what if you need more than that? What if you need a complete spider that can crawl through entire websites in a systematic way?\n",
    "\n",
    "Introducing: Scrapy! Scrapy is technically not even a library… it’s a complete web scraping framework. That means you can use it to manage requests, preserve user sessions, follow redirects, and handle output pipelines.\n",
    "\n",
    "It also means you can swap out individual modules with other Python web scraping libraries. For instance, if you need to insert Selenium for scraping dynamic web pages, you can do that [(see example)](https://stackoverflow.com/questions/17975471/selenium-with-scrapy-for-dynamic-page)\n",
    "\n",
    "<img src='figure/example2.png'  style=\"height:400px\"> "
   ]
  },
  {
   "cell_type": "markdown",
   "metadata": {},
   "source": [
    "So if you need to reuse your crawler, scale it, manage complex data pipelines, or cook up some other sophisticated spider, then Scrapy was made for you."
   ]
  },
  {
   "cell_type": "markdown",
   "metadata": {},
   "source": [
    "Build and run your web spiders"
   ]
  },
  {
   "cell_type": "code",
   "execution_count": null,
   "metadata": {
    "collapsed": false
   },
   "outputs": [],
   "source": [
    "!pip install scrapy"
   ]
  },
  {
   "cell_type": "code",
   "execution_count": null,
   "metadata": {
    "collapsed": false
   },
   "outputs": [],
   "source": [
    "import scrapy\n",
    "\n",
    "class BlogSpider(scrapy.Spider):\n",
    "    name = 'blogspider'\n",
    "    start_urls = ['https://blog.scrapinghub.com']\n",
    "\n",
    "    def parse(self, response):\n",
    "        for title in response.css('h2.entry-title'):\n",
    "            yield {'title': title.css('a ::text').extract_first()}\n",
    "\n",
    "        for next_page in response.css('div.prev-post > a'):\n",
    "            yield response.follow(next_page, self.parse)"
   ]
  },
  {
   "cell_type": "markdown",
   "metadata": {},
   "source": [
    "Deploy them to [Scrapy Cloud](https://scrapinghub.com/scrapy-cloud?_ga=2.231102427.5194203.1527774253-1718490031.1527774253)"
   ]
  },
  {
   "cell_type": "markdown",
   "metadata": {
    "collapsed": true
   },
   "source": [
    "# scrapy.Spider"
   ]
  },
  {
   "cell_type": "markdown",
   "metadata": {},
   "source": [
    "## class scrapy.spiders.Spider"
   ]
  },
  {
   "cell_type": "markdown",
   "metadata": {},
   "source": [
    "This is the simplest spider, and the one from which every other spider must inherit (including spiders that come bundled with Scrapy, as well as spiders that you write yourself). It doesn’t provide any special functionality. It just provides a default `start_requests()` implementation which sends requests from the `start_urls` spider attribute and calls the spider’s method `parse` for each of the resulting responses.\n",
    "\n",
    "### name\n",
    "\n",
    "A string which defines the name for this spider. The spider name is how the spider is located (and instantiated) by Scrapy, so it must be unique. However, nothing prevents you from instantiating more than one instance of the same spider. This is the most important spider attribute and it’s required.\n",
    "\n",
    "If the spider scrapes a single domain, a common practice is to name the spider after the domain, with or without the TLD. So, for example, a spider that crawls `mywebsite.com` would often be called `mywebsite`.\n",
    "\n",
    "\n",
    "### allowed_domains\n",
    "\n",
    "An optional list of strings containing domains that this spider is allowed to crawl. Requests for URLs not belonging to the domain names specified in this list (or their subdomains) won’t be followed if `OffsiteMiddleware` is enabled.\n",
    "\n",
    "Let’s say your target url is [https://www.example.com/1.html], then add `'example.com'` to the list.\n",
    "\n",
    "###  start_urls\n",
    "\n",
    "A list of URLs where the spider will begin to crawl from, when no particular URLs are specified. So, the first pages downloaded will be those listed here. The subsequent URLs will be generated successively from data contained in the start URLs.\n",
    "\n",
    "###  custom_settings\n",
    "\n",
    "A dictionary of settings that will be overridden from the project wide configuration when running this spider. It must be defined as a class attribute since the settings are updated before instantiation.\n",
    "\n",
    "For a list of available built-in settings see: [Built-in settings reference](https://doc.scrapy.org/en/latest/topics/settings.html#topics-settings-ref).\n",
    "\n",
    "###  crawler\n",
    "\n",
    "This attribute is set by the `from_crawler()` class method after initializating the class, and links to the `Crawler` object to which this spider instance is bound.\n",
    "\n",
    "Crawlers encapsulate a lot of components in the project for their single entry access (such as extensions, middlewares, signals managers, etc). See [Crawler API](https://doc.scrapy.org/en/latest/topics/api.html#topics-api-crawler) to know more about them.\n",
    "\n",
    "###  settings\n",
    "\n",
    "Configuration for running this spider. This is a Settings instance, see the [Settings](https://doc.scrapy.org/en/latest/topics/settings.html#topics-settings) topic for a detailed introduction on this subject.\n",
    "\n",
    "###  logger\n",
    "\n",
    "Python logger created with the Spider’s `name`. You can use it to send log messages through it as described on [Logging from Spiders](https://doc.scrapy.org/en/latest/topics/logging.html#topics-logging-from-spiders).\n",
    "\n",
    "###  from_crawler(crawler, *args, **kwargs)\n",
    "\n",
    "This is the class method used by Scrapy to create your spiders.\n",
    "\n",
    "You probably won’t need to override this directly because the default implementation acts as a proxy to the __init__() method, calling it with the given arguments args and named arguments kwargs.\n",
    "\n",
    "Nonetheless, this method sets the crawler and settings attributes in the new instance so they can be accessed later inside the spider’s code.\n",
    "    \n",
    "    Parameters:\n",
    "    \n",
    "                * crawler (Crawler instance) – crawler to which the spider will be bound\n",
    "                   \n",
    "                * args (list) – arguments passed to the __init__() method\n",
    "                   \n",
    "                * kwargs (dict) – keyword arguments passed to the __init__() method\n",
    "\n",
    "###  start_requests()\n",
    "\n",
    "This method must return an iterable with the first Requests to crawl for this spider. It is called by Scrapy when the spider is opened for scraping. Scrapy calls it only once, so it is safe to implement `start_requests()` as a generator.\n",
    "\n",
    "The default implementation generates `Request(url, dont_filter=True)` for each url in `start_urls`.\n",
    "\n",
    "If you want to change the Requests used to start scraping a domain, this is the method to override. For example, if you need to start by logging in using a POST request, you could do:"
   ]
  },
  {
   "cell_type": "code",
   "execution_count": null,
   "metadata": {
    "collapsed": true
   },
   "outputs": [],
   "source": [
    "class MySpider(scrapy.Spider):\n",
    "    name = 'myspider'\n",
    "\n",
    "    def start_requests(self):\n",
    "        return [scrapy.FormRequest(\"http://www.example.com/login\",\n",
    "                                   formdata={'user': 'john', 'pass': 'secret'},\n",
    "                                   callback=self.logged_in)]\n",
    "\n",
    "    def logged_in(self, response):\n",
    "        # here you would extract links to follow and return Requests for\n",
    "        # each of them, with another callback\n",
    "        pass"
   ]
  },
  {
   "cell_type": "markdown",
   "metadata": {},
   "source": [
    "\n",
    "### parse(response)\n",
    "\n",
    "This is the default callback used by Scrapy to process downloaded responses, when their requests don’t specify a callback.\n",
    "\n",
    "The `parse` method is in charge of processing the response and returning scraped data and/or more URLs to follow. Other Requests callbacks have the same requirements as the `Spider` class.\n",
    "\n",
    "This method, as well as any other Request callback, must return an iterable of `Request` and/or dicts or `Item` objects.\n",
    "    \n",
    "    Parameters:\n",
    "               * response (Response) – the response to parse\n",
    "\n",
    "### log(message[, level, component])\n",
    "\n",
    "Wrapper that sends a log message through the Spider’s `logger`, kept for backwards compatibility. For more information see [Logging from Spiders](https://doc.scrapy.org/en/latest/topics/logging.html#topics-logging-from-spiders).\n",
    "\n",
    "### closed(reason)\n",
    "\n",
    "Called when the spider closes. This method provides a shortcut to signals.connect() for the `spider_closed` signal."
   ]
  },
  {
   "cell_type": "markdown",
   "metadata": {},
   "source": [
    "Let’s see an example:"
   ]
  },
  {
   "cell_type": "code",
   "execution_count": null,
   "metadata": {
    "collapsed": true
   },
   "outputs": [],
   "source": [
    "import scrapy\n",
    "\n",
    "class MySpider(scrapy.Spider):\n",
    "    name = 'example.com'\n",
    "    allowed_domains = ['example.com']\n",
    "    start_urls = [\n",
    "        'http://www.example.com/1.html',\n",
    "        'http://www.example.com/2.html',\n",
    "        'http://www.example.com/3.html',\n",
    "    ]\n",
    "\n",
    "    def parse(self, response):\n",
    "        self.logger.info('A response from %s just arrived!', response.url)"
   ]
  },
  {
   "cell_type": "markdown",
   "metadata": {},
   "source": [
    "Return multiple Requests and items from a single callback:"
   ]
  },
  {
   "cell_type": "code",
   "execution_count": null,
   "metadata": {
    "collapsed": true
   },
   "outputs": [],
   "source": [
    "import scrapy\n",
    "\n",
    "class MySpider(scrapy.Spider):\n",
    "    name = 'example.com'\n",
    "    allowed_domains = ['example.com']\n",
    "    start_urls = [\n",
    "        'http://www.example.com/1.html',\n",
    "        'http://www.example.com/2.html',\n",
    "        'http://www.example.com/3.html',\n",
    "    ]\n",
    "\n",
    "    def parse(self, response):\n",
    "        for h3 in response.xpath('//h3').extract():\n",
    "            yield {\"title\": h3}\n",
    "\n",
    "        for url in response.xpath('//a/@href').extract():\n",
    "            yield scrapy.Request(url, callback=self.parse)"
   ]
  },
  {
   "cell_type": "markdown",
   "metadata": {},
   "source": [
    "Instead of `start_urls` you can use `start_requests()` directly; to give data more structure you can use [Items](https://doc.scrapy.org/en/latest/topics/items.html#topics-items):"
   ]
  },
  {
   "cell_type": "code",
   "execution_count": null,
   "metadata": {
    "collapsed": true
   },
   "outputs": [],
   "source": [
    "import scrapy\n",
    "from myproject.items import MyItem\n",
    "\n",
    "class MySpider(scrapy.Spider):\n",
    "    name = 'example.com'\n",
    "    allowed_domains = ['example.com']\n",
    "\n",
    "    def start_requests(self):\n",
    "        yield scrapy.Request('http://www.example.com/1.html', self.parse)\n",
    "        yield scrapy.Request('http://www.example.com/2.html', self.parse)\n",
    "        yield scrapy.Request('http://www.example.com/3.html', self.parse)\n",
    "\n",
    "    def parse(self, response):\n",
    "        for h3 in response.xpath('//h3').extract():\n",
    "            yield MyItem(title=h3)\n",
    "\n",
    "        for url in response.xpath('//a/@href').extract():\n",
    "            yield scrapy.Request(url, callback=self.parse)"
   ]
  },
  {
   "cell_type": "markdown",
   "metadata": {},
   "source": [
    "# Spider arguments\n",
    "\n",
    "Spiders can receive arguments that modify their behaviour. Some common uses for spider arguments are to define the start URLs or to restrict the crawl to certain sections of the site, but they can be used to configure any functionality of the spider.\n",
    "\n",
    "Spider arguments are passed through the `crawl` command using the `-a` option. For example:"
   ]
  },
  {
   "cell_type": "raw",
   "metadata": {},
   "source": [
    "scrapy crawl myspider -a category=electronics"
   ]
  },
  {
   "cell_type": "markdown",
   "metadata": {},
   "source": [
    "Spiders can access arguments in their $__init__$ methods:"
   ]
  },
  {
   "cell_type": "code",
   "execution_count": null,
   "metadata": {
    "collapsed": true
   },
   "outputs": [],
   "source": [
    "import scrapy\n",
    "\n",
    "class MySpider(scrapy.Spider):\n",
    "    name = 'myspider'\n",
    "\n",
    "    def __init__(self, category=None, *args, **kwargs):\n",
    "        super(MySpider, self).__init__(*args, **kwargs)\n",
    "        self.start_urls = ['http://www.example.com/categories/%s' % category]\n",
    "        # ..."
   ]
  },
  {
   "cell_type": "markdown",
   "metadata": {},
   "source": [
    "The default $__init__$ method will take any spider arguments and copy them to the spider as attributes. The above example can also be written as follows:"
   ]
  },
  {
   "cell_type": "code",
   "execution_count": null,
   "metadata": {
    "collapsed": true
   },
   "outputs": [],
   "source": [
    "import scrapy\n",
    "\n",
    "class MySpider(scrapy.Spider):\n",
    "    name = 'myspider'\n",
    "\n",
    "    def start_requests(self):\n",
    "        yield scrapy.Request('http://www.example.com/categories/%s' % self.category)"
   ]
  },
  {
   "cell_type": "markdown",
   "metadata": {},
   "source": [
    "Keep in mind that spider arguments are only strings. The spider will not do any parsing on its own. If you were to set the start_urls attribute from the command line, you would have to parse it on your own into a list using something like `ast.literal_eval` or `json.loads` and then set it as an attribute. Otherwise, you would cause iteration over a start_urls string (a very common python pitfall) resulting in each character being seen as a separate url.\n",
    "\n",
    "A valid use case is to set the http auth credentials used by `HttpAuthMiddleware` or the user agent used by `UserAgentMiddleware`:"
   ]
  },
  {
   "cell_type": "raw",
   "metadata": {},
   "source": [
    "scrapy crawl myspider -a http_user=myuser -a http_pass=mypassword -a user_agent=mybot"
   ]
  },
  {
   "cell_type": "markdown",
   "metadata": {},
   "source": [
    "Spider arguments can also be passed through the Scrapyd `schedule.json` API. See [Scrapyd documentation](https://scrapyd.readthedocs.io/en/latest/).\n",
    "\n",
    "# Generic Spiders\n",
    "\n",
    "Scrapy comes with some useful generic spiders that you can use to subclass your spiders from. Their aim is to provide convenient functionality for a few common scraping cases, like following all links on a site based on certain rules, crawling from [Sitemaps](https://www.sitemaps.org/index.html), or parsing an XML/CSV feed.\n",
    "\n",
    "For the examples used in the following spiders, we’ll assume you have a project with a `TestItem` declared in a `myproject.items` module:"
   ]
  },
  {
   "cell_type": "code",
   "execution_count": null,
   "metadata": {
    "collapsed": true
   },
   "outputs": [],
   "source": [
    "import scrapy\n",
    "\n",
    "class TestItem(scrapy.Item):\n",
    "    id = scrapy.Field()\n",
    "    name = scrapy.Field()\n",
    "    description = scrapy.Field()"
   ]
  },
  {
   "cell_type": "markdown",
   "metadata": {},
   "source": [
    "## CrawlSpider\n",
    "\n",
    "### class scrapy.spiders.CrawlSpider\n",
    "\n",
    "This is the most commonly used spider for crawling regular websites, as it provides a convenient mechanism for following links by defining a set of rules. It may not be the best suited for your particular web sites or project, but it’s generic enough for several cases, so you can start from it and override it as needed for more custom functionality, or just implement your own spider.\n",
    "\n",
    "Apart from the attributes inherited from Spider (that you must specify), this class supports a new attribute:\n",
    "\n",
    "### rules\n",
    "\n",
    "Which is a list of one (or more) `Rule` objects. Each `Rule` defines a certain behaviour for crawling the site. Rules objects are described below. If multiple rules match the same link, the first one will be used, according to the order they’re defined in this attribute.\n",
    "\n",
    "This spider also exposes an overrideable method:\n",
    "\n",
    "### parse_start_url(response)\n",
    "\n",
    "This method is called for the start_urls responses. It allows to parse the initial responses and must return either an `Item` object, a `Request` object, or an iterable containing any of them."
   ]
  },
  {
   "cell_type": "markdown",
   "metadata": {},
   "source": [
    "## CrawlSpider example\n",
    "\n",
    "Let’s now take a look at an example CrawlSpider with rules:"
   ]
  },
  {
   "cell_type": "code",
   "execution_count": null,
   "metadata": {
    "collapsed": true
   },
   "outputs": [],
   "source": [
    "import scrapy\n",
    "from scrapy.spiders import CrawlSpider, Rule\n",
    "from scrapy.linkextractors import LinkExtractor\n",
    "\n",
    "class MySpider(CrawlSpider):\n",
    "    name = 'example.com'\n",
    "    allowed_domains = ['example.com']\n",
    "    start_urls = ['http://www.example.com']\n",
    "\n",
    "    rules = (\n",
    "        # Extract links matching 'category.php' (but not matching 'subsection.php')\n",
    "        # and follow links from them (since no callback means follow=True by default).\n",
    "        Rule(LinkExtractor(allow=('category\\.php', ), deny=('subsection\\.php', ))),\n",
    "\n",
    "        # Extract links matching 'item.php' and parse them with the spider's method parse_item\n",
    "        Rule(LinkExtractor(allow=('item\\.php', )), callback='parse_item'),\n",
    "    )\n",
    "\n",
    "    def parse_item(self, response):\n",
    "        self.logger.info('Hi, this is an item page! %s', response.url)\n",
    "        item = scrapy.Item()\n",
    "        item['id'] = response.xpath('//td[@id=\"item_id\"]/text()').re(r'ID: (\\d+)')\n",
    "        item['name'] = response.xpath('//td[@id=\"item_name\"]/text()').extract()\n",
    "        item['description'] = response.xpath('//td[@id=\"item_description\"]/text()').extract()\n",
    "        return item"
   ]
  },
  {
   "cell_type": "markdown",
   "metadata": {},
   "source": [
    "This spider would start crawling example.com’s home page, collecting category links, and item links, parsing the latter with the `parse_item` method. For each item response, some data will be extracted from the HTML using XPath, and an `Item` will be filled with it."
   ]
  },
  {
   "cell_type": "markdown",
   "metadata": {},
   "source": [
    "## XMLFeedSpider\n",
    "\n",
    "### class scrapy.spiders.XMLFeedSpider\n",
    "\n",
    "XMLFeedSpider is designed for parsing XML feeds by iterating through them by a certain node name. The iterator can be chosen from: `iternodes, xml`, and `html`. It’s recommended to use the `iternodes` iterator for performance reasons, since the `xml` and `html` iterators generate the whole DOM at once in order to parse it. However, using `html` as the iterator may be useful when parsing XML with bad markup.\n",
    "\n",
    "To set the iterator and the tag name, you must define the following class attributes:\n",
    "\n",
    "### iterator\n",
    "\n",
    "A string which defines the iterator to use. It can be either:\n",
    "\n",
    "    * 'iternodes' - a fast iterator based on regular expressions\n",
    "    * 'html' - an iterator which uses Selector. Keep in mind this uses DOM parsing and must load all DOM in memory which could be a problem for big feeds\n",
    "    * 'xml' - an iterator which uses Selector. Keep in mind this uses DOM parsing and must load all DOM in memory which could be a problem for big feeds\n",
    "\n",
    "It defaults to: `'iternodes'`.\n",
    "\n",
    "### itertag\n",
    "\n",
    "A string with the name of the node (or element) to iterate in. Example:"
   ]
  },
  {
   "cell_type": "raw",
   "metadata": {},
   "source": [
    "itertag = 'product'"
   ]
  },
  {
   "cell_type": "markdown",
   "metadata": {},
   "source": [
    "### namespaces\n",
    "\n",
    "A list of `(prefix, uri)` tuples which define the namespaces available in that document that will be processed with this spider. The `prefix` and `uri` will be used to automatically register namespaces using the `register_namespace()` method.\n",
    "\n",
    "You can then specify nodes with namespaces in the `itertag` attribute.\n",
    "\n",
    "Example:"
   ]
  },
  {
   "cell_type": "code",
   "execution_count": null,
   "metadata": {
    "collapsed": true
   },
   "outputs": [],
   "source": [
    "class YourSpider(XMLFeedSpider):\n",
    "\n",
    "    namespaces = [('n', 'http://www.sitemaps.org/schemas/sitemap/0.9')]\n",
    "    itertag = 'n:url'\n",
    "    # ..."
   ]
  },
  {
   "cell_type": "markdown",
   "metadata": {},
   "source": [
    "Apart from these new attributes, this spider has the following overrideable methods too:"
   ]
  },
  {
   "cell_type": "markdown",
   "metadata": {},
   "source": [
    "### adapt_response(response)\n",
    "\n",
    "A method that receives the response as soon as it arrives from the spider middleware, before the spider starts parsing it. It can be used to modify the response body before parsing it. This method receives a response and also returns a response (it could be the same or another one).\n",
    "\n",
    "### parse_node(response, selector)\n",
    "\n",
    "This method is called for the nodes matching the provided tag name (`itertag`). Receives the response and an `Selector` for each node. Overriding this method is mandatory. Otherwise, you spider won’t work. This method must return either a `Item` object, a `Request` object, or an iterable containing any of them.\n",
    "\n",
    "### process_results(response, results)\n",
    "\n",
    "This method is called for each result (item or request) returned by the spider, and it’s intended to perform any last time processing required before returning the results to the framework core, for example setting the item IDs. It receives a list of results and the response which originated those results. It must return a list of results (Items or Requests)."
   ]
  },
  {
   "cell_type": "markdown",
   "metadata": {},
   "source": [
    "## XMLFeedSpider example"
   ]
  },
  {
   "cell_type": "markdown",
   "metadata": {},
   "source": [
    "These spiders are pretty easy to use, let’s have a look at one example:"
   ]
  },
  {
   "cell_type": "code",
   "execution_count": null,
   "metadata": {
    "collapsed": true
   },
   "outputs": [],
   "source": [
    "from scrapy.spiders import XMLFeedSpider\n",
    "from myproject.items import TestItem\n",
    "\n",
    "class MySpider(XMLFeedSpider):\n",
    "    name = 'example.com'\n",
    "    allowed_domains = ['example.com']\n",
    "    start_urls = ['http://www.example.com/feed.xml']\n",
    "    iterator = 'iternodes'  # This is actually unnecessary, since it's the default value\n",
    "    itertag = 'item'\n",
    "\n",
    "    def parse_node(self, response, node):\n",
    "        self.logger.info('Hi, this is a <%s> node!: %s', self.itertag, ''.join(node.extract()))\n",
    "\n",
    "        item = TestItem()\n",
    "        item['id'] = node.xpath('@id').extract()\n",
    "        item['name'] = node.xpath('name').extract()\n",
    "        item['description'] = node.xpath('description').extract()\n",
    "        return item"
   ]
  },
  {
   "cell_type": "markdown",
   "metadata": {},
   "source": [
    "Basically what we did up there was to create a spider that downloads a feed from the given `start_urls`, and then iterates through each of its `item` tags, prints them out, and stores some random data in an `Item`."
   ]
  },
  {
   "cell_type": "markdown",
   "metadata": {},
   "source": [
    "# CSVFeedSpider\n",
    "\n",
    "## class scrapy.spiders.CSVFeedSpider\n",
    "\n",
    "This spider is very similar to the XMLFeedSpider, except that it iterates over rows, instead of nodes. The method that gets called in each iteration is `parse_row()`.\n",
    "\n",
    "### delimiter\n",
    "\n",
    "A string with the separator character for each field in the CSV file Defaults to `','` (comma).\n",
    "\n",
    "### quotechar\n",
    "\n",
    "A string with the enclosure character for each field in the CSV file Defaults to `'\"'` (quotation mark).\n",
    "\n",
    "### headers\n",
    "\n",
    "A list of the column names in the CSV file.\n",
    "\n",
    "### parse_row(response, row)\n",
    "\n",
    "Receives a response and a dict (representing each row) with a key for each provided (or detected) header of the CSV file. This spider also gives the opportunity to override `adapt_response` and `process_results` methods for pre- and post-processing purposes.\n",
    "\n",
    "## CSVFeedSpider example\n",
    "\n",
    "Let’s see an example similar to the previous one, but using a `CSVFeedSpider`:"
   ]
  },
  {
   "cell_type": "code",
   "execution_count": null,
   "metadata": {
    "collapsed": true
   },
   "outputs": [],
   "source": [
    "from scrapy.spiders import CSVFeedSpider\n",
    "from myproject.items import TestItem\n",
    "\n",
    "class MySpider(CSVFeedSpider):\n",
    "    name = 'example.com'\n",
    "    allowed_domains = ['example.com']\n",
    "    start_urls = ['http://www.example.com/feed.csv']\n",
    "    delimiter = ';'\n",
    "    quotechar = \"'\"\n",
    "    headers = ['id', 'name', 'description']\n",
    "\n",
    "    def parse_row(self, response, row):\n",
    "        self.logger.info('Hi, this is a row!: %r', row)\n",
    "\n",
    "        item = TestItem()\n",
    "        item['id'] = row['id']\n",
    "        item['name'] = row['name']\n",
    "        item['description'] = row['description']\n",
    "        return item"
   ]
  },
  {
   "cell_type": "markdown",
   "metadata": {},
   "source": [
    "# SitemapSpider\n",
    "\n",
    "## class scrapy.spiders.SitemapSpider\n",
    "\n",
    "SitemapSpider allows you to crawl a site by discovering the URLs using Sitemaps.\n",
    "\n",
    "It supports nested sitemaps and discovering sitemap urls from [robots.txt](http://www.robotstxt.org/).\n",
    "\n",
    "### sitemap_urls\n",
    "\n",
    "A list of urls pointing to the sitemaps whose urls you want to crawl.\n",
    "\n",
    "You can also point to a robots.txt and it will be parsed to extract sitemap urls from it.\n",
    "\n",
    "### sitemap_rules\n",
    "\n",
    "A list of tuples `(regex, callback)` where:\n",
    "\n",
    "      * regex is a regular expression to match urls extracted from sitemaps. regex can be either a str or a compiled regex object.\n",
    "      * callback is the callback to use for processing the urls that match the regular expression. callback can be a string (indicating the name of a spider method) or a callable.\n",
    "\n",
    "For example:"
   ]
  },
  {
   "cell_type": "raw",
   "metadata": {},
   "source": [
    "sitemap_rules = [('/product/', 'parse_product')]"
   ]
  },
  {
   "cell_type": "markdown",
   "metadata": {},
   "source": [
    "Rules are applied in order, and only the first one that matches will be used.\n",
    "\n",
    "If you omit this attribute, all urls found in sitemaps will be processed with the `parse` callback.\n",
    "\n",
    "### sitemap_follow\n",
    "\n",
    "A list of regexes of sitemap that should be followed. This is is only for sites that use [Sitemap index files](https://www.sitemaps.org/protocol.html#index) that point to other sitemap files.\n",
    "\n",
    "By default, all sitemaps are followed.\n",
    "\n",
    "### sitemap_alternate_links\n",
    "\n",
    "Specifies if alternate links for one `url` should be followed. These are links for the same website in another language passed within the same `url` block.\n",
    "\n",
    "For example:"
   ]
  },
  {
   "cell_type": "raw",
   "metadata": {},
   "source": [
    "<url>\n",
    "    <loc>http://example.com/</loc>\n",
    "    <xhtml:link rel=\"alternate\" hreflang=\"de\" href=\"http://example.com/de\"/>\n",
    "</url>"
   ]
  },
  {
   "cell_type": "markdown",
   "metadata": {},
   "source": [
    "With `sitemap_alternate_links` set, this would retrieve both URLs. \n",
    "\n",
    "With `sitemap_alternate_links` disabled, only http://example.com/ would be retrieved.\n",
    "\n",
    "Default is `sitemap_alternate_links` disabled."
   ]
  },
  {
   "cell_type": "markdown",
   "metadata": {},
   "source": [
    "## SitemapSpider examples\n",
    "\n",
    "Simplest example: process all urls discovered through sitemaps using the `parse` callback:"
   ]
  },
  {
   "cell_type": "code",
   "execution_count": null,
   "metadata": {
    "collapsed": true
   },
   "outputs": [],
   "source": [
    "from scrapy.spiders import SitemapSpider\n",
    "\n",
    "class MySpider(SitemapSpider):\n",
    "    sitemap_urls = ['http://www.example.com/sitemap.xml']\n",
    "\n",
    "    def parse(self, response):\n",
    "        pass # ... scrape item here ..."
   ]
  },
  {
   "cell_type": "markdown",
   "metadata": {},
   "source": [
    "Process some urls with certain callback and other urls with a different callback:"
   ]
  },
  {
   "cell_type": "code",
   "execution_count": null,
   "metadata": {
    "collapsed": true
   },
   "outputs": [],
   "source": [
    "from scrapy.spiders import SitemapSpider\n",
    "\n",
    "class MySpider(SitemapSpider):\n",
    "    sitemap_urls = ['http://www.example.com/sitemap.xml']\n",
    "    sitemap_rules = [\n",
    "        ('/product/', 'parse_product'),\n",
    "        ('/category/', 'parse_category'),\n",
    "    ]\n",
    "\n",
    "    def parse_product(self, response):\n",
    "        pass # ... scrape product ...\n",
    "\n",
    "    def parse_category(self, response):\n",
    "        pass # ... scrape category ..."
   ]
  },
  {
   "cell_type": "markdown",
   "metadata": {},
   "source": [
    "Follow sitemaps defined in the robots.txt file and only follow sitemaps whose url contains `/sitemap_shop:`"
   ]
  },
  {
   "cell_type": "code",
   "execution_count": null,
   "metadata": {
    "collapsed": true
   },
   "outputs": [],
   "source": [
    "from scrapy.spiders import SitemapSpider\n",
    "\n",
    "class MySpider(SitemapSpider):\n",
    "    sitemap_urls = ['http://www.example.com/robots.txt']\n",
    "    sitemap_rules = [\n",
    "        ('/shop/', 'parse_shop'),\n",
    "    ]\n",
    "    sitemap_follow = ['/sitemap_shops']\n",
    "\n",
    "    def parse_shop(self, response):\n",
    "        pass # ... scrape shop here ..."
   ]
  },
  {
   "cell_type": "markdown",
   "metadata": {},
   "source": [
    "Combine SitemapSpider with other sources of urls:"
   ]
  },
  {
   "cell_type": "code",
   "execution_count": null,
   "metadata": {
    "collapsed": true
   },
   "outputs": [],
   "source": [
    "from scrapy.spiders import SitemapSpider\n",
    "\n",
    "class MySpider(SitemapSpider):\n",
    "    sitemap_urls = ['http://www.example.com/robots.txt']\n",
    "    sitemap_rules = [\n",
    "        ('/shop/', 'parse_shop'),\n",
    "    ]\n",
    "\n",
    "    other_urls = ['http://www.example.com/about']\n",
    "\n",
    "    def start_requests(self):\n",
    "        requests = list(super(MySpider, self).start_requests())\n",
    "        requests += [scrapy.Request(x, self.parse_other) for x in self.other_urls]\n",
    "        return requests\n",
    "\n",
    "    def parse_shop(self, response):\n",
    "        pass # ... scrape shop here ...\n",
    "\n",
    "    def parse_other(self, response):\n",
    "        pass # ... scrape other here ..."
   ]
  }
 ],
 "metadata": {
  "anaconda-cloud": {},
  "kernelspec": {
   "display_name": "Python [Root]",
   "language": "python",
   "name": "Python [Root]"
  },
  "language_info": {
   "codemirror_mode": {
    "name": "ipython",
    "version": 3
   },
   "file_extension": ".py",
   "mimetype": "text/x-python",
   "name": "python",
   "nbconvert_exporter": "python",
   "pygments_lexer": "ipython3",
   "version": "3.5.2"
  }
 },
 "nbformat": 4,
 "nbformat_minor": 0
}
